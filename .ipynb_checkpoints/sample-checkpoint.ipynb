{
 "cells": [
  {
   "cell_type": "code",
   "execution_count": 1,
   "id": "04e407ce-b232-4832-8150-997629ad642a",
   "metadata": {},
   "outputs": [
    {
     "name": "stdout",
     "output_type": "stream",
     "text": [
      "hello\n"
     ]
    }
   ],
   "source": [
    "print(\"hello\")"
   ]
  },
  {
   "cell_type": "markdown",
   "id": "6dfc1298-6f4f-46b0-9dd9-10e568c6e491",
   "metadata": {},
   "source": [
    "# Welcome to a Readme File\n",
    "## Second Welcome\n",
    "### Third Welcome\n",
    "\n",
    "*italic*\n",
    "\n",
    "**bold**\n",
    "\n",
    "* list 1\n",
    "* list 2\n",
    "\n",
    "- list 1\n",
    "- list 2\n",
    "\n",
    "This decribes this particular project and directory level.\n",
    "\n",
    "\n",
    "[GitHub Readme1 Reference](https://github.com/tchapi/markdown-cheatsheet/blob/master/README.md)\n",
    "\n",
    "[General Readme2 Reference](https://www.mygreatlearning.com/blog/readme-file/#:~:text=When%20you%20create%20a%20repository,be%20easily%20converted%20to%20text)\n",
    "\n",
    "Bring in local graphic\n",
    "![GitHub Logo](./regan.png) \n",
    "\n",
    "Bring in remote graphic\n",
    "![GitHub Logo](https://upload.wikimedia.org/wikipedia/commons/d/de/Amazon_icon.png)"
   ]
  },
  {
   "cell_type": "code",
   "execution_count": null,
   "id": "615d7fa1-08e0-474e-9d6a-b1dc45af4d1f",
   "metadata": {},
   "outputs": [],
   "source": []
  }
 ],
 "metadata": {
  "kernelspec": {
   "display_name": "Python 3 (ipykernel)",
   "language": "python",
   "name": "python3"
  },
  "language_info": {
   "codemirror_mode": {
    "name": "ipython",
    "version": 3
   },
   "file_extension": ".py",
   "mimetype": "text/x-python",
   "name": "python",
   "nbconvert_exporter": "python",
   "pygments_lexer": "ipython3",
   "version": "3.8.10"
  }
 },
 "nbformat": 4,
 "nbformat_minor": 5
}
